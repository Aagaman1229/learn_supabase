{
 "cells": [
  {
   "cell_type": "markdown",
   "id": "93c71e6c",
   "metadata": {},
   "source": [
    "### connect react to the supabase and CRUD"
   ]
  },
  {
   "cell_type": "markdown",
   "id": "ef8dbff4",
   "metadata": {},
   "source": [
    "For the shake of learning, we will build a Task manager "
   ]
  },
  {
   "cell_type": "code",
   "execution_count": null,
   "id": "fe770953",
   "metadata": {},
   "outputs": [],
   "source": [
    "npm install @supabase/supabase-js"
   ]
  },
  {
   "cell_type": "markdown",
   "id": "d0c06eea",
   "metadata": {},
   "source": [
    "supabase-client.js"
   ]
  },
  {
   "cell_type": "code",
   "execution_count": null,
   "id": "c32b7bba",
   "metadata": {},
   "outputs": [],
   "source": [
    "import {createClient} from \"@supabase/supabase-js\"\n",
    "require('dotenv').config();\n",
    "\n",
    "\n",
    "const supabaseUrl = 'https://wtjjtwictrguauiknlmt.supabase.co'\n",
    "const supabaseKey = process.env.SUPABASE_KEY\n",
    "export const supabase = createClient(supabaseUrl, supabaseKey)"
   ]
  },
  {
   "cell_type": "markdown",
   "id": "585db665",
   "metadata": {},
   "source": [
    "In the app.js"
   ]
  },
  {
   "cell_type": "code",
   "execution_count": null,
   "id": "44e2e41a",
   "metadata": {},
   "outputs": [],
   "source": [
    "import \"./App.css\";\n",
    "\n",
    "import { useState } from \"react\";\n",
    "import { supabase } from \"./supabase-client\";\n",
    "\n",
    "function App() {\n",
    "    const [newTask, setNewTask] = useState({ task: \"\", description: \"\" });\n",
    "    const handleSubmit = async (e) => {\n",
    "        e.preventDefault();\n",
    "        const { data, error } = await supabase.from(\"tasks\").insert([newTask]);\n",
    "        # from represent table name which have feature like insert, select, update, delete\n",
    "        # here [newTask] is numbers of objects insering in bulk.\n",
    "        # .multiple(True) is used to fetch multiple objects at once     \n",
    "        const {data, error} = await supabase.from(\"tasks\").insert(newTask).single();\n",
    "        # newTask is a single object, since we are inserting one object at a time\n",
    "        # .single() is used when we are inserting a single object\n",
    "        if (error){\n",
    "        console.log(\"Error inserting data:\", error);\n",
    "        return;\n",
    "        }\n",
    "        setNewTask({title: \"\",description:\"\"})\n",
    "        # resetting the title and description to null after submit\n",
    "  };  \n",
    "\n",
    "  return (\n",
    "      <form onSubmit={handleSubmit} style={{ marginBottom: \"1rem\" }}>\n",
    "        <input\n",
    "          type=\"text\"\n",
    "          placeholder=\"Task Title\"\n",
    "          onChange={(e) =>\n",
    "            setNewTask((prev) => ({ ...prev, task: e.target.value }))\n",
    "          }\n",
    "          # FIX 4: The value prop must match the state property \"task\".\n",
    "          value={newTask.task}\n",
    "          style={{ width: \"100%\", marginBottom: \"0.5rem\", padding: \"0.5rem\" }}\n",
    "        />\n",
    "        <textarea\n",
    "          placeholder=\"Task Description\"\n",
    "          onChange={(e) =>\n",
    "            setNewTask((prev) => ({ ...prev, description: e.target.value }))\n",
    "          }\n",
    "          # FIX 5: Textarea also needs a value prop to be a controlled component.\n",
    "          value={newTask.description}\n",
    "          style={{ width: \"100%\", marginBottom: \"0.5rem\", padding: \"0.5rem\" }}\n",
    "        />\n",
    "        # The button's type is \"submit\", so it automatically triggers the form's onSubmit event \n",
    "        <button type=\"submit\" style={{ padding: \"0.5rem 1rem\" }}>\n",
    "          Add Task\n",
    "        </button>\n",
    "      </form>\n",
    "  )\n",
    "}"
   ]
  },
  {
   "cell_type": "markdown",
   "id": "2ccfe477",
   "metadata": {},
   "source": [
    "Similarly, we want to fetch task as well right. let's do it"
   ]
  },
  {
   "cell_type": "code",
   "execution_count": null,
   "id": "01330bf7",
   "metadata": {},
   "outputs": [],
   "source": [
    "\n",
    "\n",
    "function App() {\n",
    "  const [tasks, setTasks] = useState([]);\n",
    "  const fetchTasks = async () => {\n",
    "    const { data, error } = await supabase\n",
    "        .from(\"tasks\")\n",
    "        .select(\"*\")\n",
    "        .order(\"created_at\", { ascending: true });\n",
    "    \n",
    "    if (error) {\n",
    "      console.error(\"Error fetching data:\", error);\n",
    "      return;\n",
    "    } else {\n",
    "      console.log(\"Fetched tasks:\", data);\n",
    "    }\n",
    "    setTasks(data);\n",
    "  };\n",
    "  useEffect(() => {\n",
    "    fetchTasks();\n",
    "    console.log(tasks);\n",
    "  }, []);\n",
    "\n",
    "  return(\n",
    "      \n",
    "      <ul>\n",
    "        {tasks.map((task,key) => (\n",
    "        <li key={key}>\n",
    "          <div>\n",
    "            <h3>{task.task}</h3>\n",
    "            <p>{task.description}</p>\n",
    "            <div>\n",
    "              <button>Edit</button>\n",
    "              <button>Delete</button>\n",
    "            </div>\n",
    "          </div>\n",
    "        </li>\n",
    "        ))}\n",
    "      </ul>\n",
    "\n",
    "  )\n",
    "  \n",
    "}"
   ]
  },
  {
   "cell_type": "markdown",
   "id": "220ae8d0",
   "metadata": {},
   "source": [
    "Now,we want to delete the task"
   ]
  },
  {
   "cell_type": "code",
   "execution_count": null,
   "id": "9ba02e31",
   "metadata": {},
   "outputs": [],
   "source": [
    "function app(){\n",
    "\n",
    "    const deleteTask = async (id) => {\n",
    "        const { data, error } = await supabase\n",
    "            .from(\"tasks\")\n",
    "            .delete()\n",
    "            .eq(\"id\", id);\n",
    "            // equivalance condition\n",
    "        if (error) {\n",
    "            console.error(\"Error deleting task:\", error);\n",
    "            return;\n",
    "        } else {\n",
    "            console.log(\"Task deleted successfully:\", data);\n",
    "            // Refresh the task list after deletion\n",
    "            fetchTasks();\n",
    "        }\n",
    "    };\n",
    "\n",
    "    # from above\n",
    "    <button onClick={() => deleteTask(task.id)}>Delete</button>\n",
    "\n",
    "}"
   ]
  },
  {
   "cell_type": "markdown",
   "id": "93816102",
   "metadata": {},
   "source": [
    "Now, we need to update it too"
   ]
  },
  {
   "cell_type": "code",
   "execution_count": null,
   "id": "0b491af7",
   "metadata": {},
   "outputs": [],
   "source": [
    "\n",
    "function App() {\n",
    "    const [newDescription, setNewDescription] = useState(\"\"); \n",
    "\n",
    "    const updateTask = async (id) => { \n",
    "        const { data, error } = await supabase\n",
    "            .from(\"tasks\")\n",
    "            .update({ description: newDescription })\n",
    "            .eq(\"id\", id)\n",
    "        \n",
    "        if (error) {\n",
    "            console.error(\"Error updating task:\", error);\n",
    "            return;\n",
    "        } else {\n",
    "            console.log(\"Task updated successfully:\", data);\n",
    "            // Refresh the task list after update\n",
    "            fetchTasks();\n",
    "        }\n",
    "  };\n",
    "\n",
    "\n",
    "    return(\n",
    "        <textarea\n",
    "            placeholder=\"Update Task Title\"\n",
    "            onChange={(e) => {setNewDescription(e.target.value )}}/>\n",
    "        <button \n",
    "            style={{ padding: \"0.5rem 1rem\", marginRight: \"0.5rem\" }}\n",
    "            onClick={() => updateTask(task.id, { task: newDescription })}\n",
    "            >\n",
    "            Edit\n",
    "        </button>\n",
    "    )\n",
    "}"
   ]
  }
 ],
 "metadata": {
  "language_info": {
   "name": "python"
  }
 },
 "nbformat": 4,
 "nbformat_minor": 5
}
