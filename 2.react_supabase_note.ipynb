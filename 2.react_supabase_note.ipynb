{
 "cells": [
  {
   "cell_type": "markdown",
   "id": "93c71e6c",
   "metadata": {},
   "source": [
    "### connect react to the supabase"
   ]
  },
  {
   "cell_type": "code",
   "execution_count": null,
   "id": "fe770953",
   "metadata": {},
   "outputs": [],
   "source": [
    "npm install @supabase/supabase-js"
   ]
  }
 ],
 "metadata": {
  "language_info": {
   "name": "python"
  }
 },
 "nbformat": 4,
 "nbformat_minor": 5
}
